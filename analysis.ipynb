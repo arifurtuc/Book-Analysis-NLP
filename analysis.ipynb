{
 "cells": [
  {
   "cell_type": "markdown",
   "id": "fe9c2c42-bdf1-4286-9e4f-0eca6899c470",
   "metadata": {},
   "source": [
    "# Load the book"
   ]
  },
  {
   "cell_type": "code",
   "execution_count": 1,
   "id": "f197b385-e3c2-4b02-8216-25f397858209",
   "metadata": {},
   "outputs": [],
   "source": [
    "with open(\"book.txt\", \"r\") as file:\n",
    "    book = file.read()"
   ]
  },
  {
   "cell_type": "code",
   "execution_count": null,
   "id": "90d64f0f-2da1-4be6-b558-e207d7501a1f",
   "metadata": {},
   "outputs": [],
   "source": []
  }
 ],
 "metadata": {
  "kernelspec": {
   "display_name": "Python 3 (ipykernel)",
   "language": "python",
   "name": "python3"
  },
  "language_info": {
   "codemirror_mode": {
    "name": "ipython",
    "version": 3
   },
   "file_extension": ".py",
   "mimetype": "text/x-python",
   "name": "python",
   "nbconvert_exporter": "python",
   "pygments_lexer": "ipython3",
   "version": "3.12.0"
  }
 },
 "nbformat": 4,
 "nbformat_minor": 5
}
