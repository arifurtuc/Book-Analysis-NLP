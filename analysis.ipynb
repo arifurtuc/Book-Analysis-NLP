{
 "cells": [
  {
   "cell_type": "markdown",
   "id": "fe9c2c42-bdf1-4286-9e4f-0eca6899c470",
   "metadata": {},
   "source": [
    "# Load the book"
   ]
  },
  {
   "cell_type": "code",
   "execution_count": 4,
   "id": "f197b385-e3c2-4b02-8216-25f397858209",
   "metadata": {},
   "outputs": [],
   "source": [
    "with open(\"book.txt\", \"r\") as file:\n",
    "    book = file.read()"
   ]
  },
  {
   "cell_type": "markdown",
   "id": "299ff4bd-40f0-4539-ba10-1fe637f27df8",
   "metadata": {},
   "source": [
    "# How many chapters?"
   ]
  },
  {
   "cell_type": "markdown",
   "id": "e7236c22-cb62-46cd-9bf2-5dba2fc910a2",
   "metadata": {},
   "source": [
    "### With string methods"
   ]
  },
  {
   "cell_type": "code",
   "execution_count": 5,
   "id": "ad0fcf00-183a-4278-8ee2-8cb8fa27b25c",
   "metadata": {},
   "outputs": [
    {
     "data": {
      "text/plain": [
       "11"
      ]
     },
     "execution_count": 5,
     "metadata": {},
     "output_type": "execute_result"
    }
   ],
   "source": [
    "book.count(\"Chapter\")"
   ]
  },
  {
   "cell_type": "markdown",
   "id": "f108688a-6175-49f0-8b37-cabaedf239f8",
   "metadata": {},
   "source": [
    "### With regex"
   ]
  },
  {
   "cell_type": "code",
   "execution_count": 6,
   "id": "d1b1f5be-ae36-462e-8289-c245a514e553",
   "metadata": {},
   "outputs": [
    {
     "data": {
      "text/plain": [
       "10"
      ]
     },
     "execution_count": 6,
     "metadata": {},
     "output_type": "execute_result"
    }
   ],
   "source": [
    "import re\n",
    "pattern = re.compile(\"Chapter [0-9]+\")\n",
    "findings = re.findall(pattern, book)\n",
    "len(findings)"
   ]
  },
  {
   "cell_type": "markdown",
   "id": "cde46028-4f88-48e4-89c2-1caeec8efc15",
   "metadata": {},
   "source": [
    "# Which are the sentences where \"love\" is used? "
   ]
  },
  {
   "cell_type": "code",
   "execution_count": 7,
   "id": "25c4de3d-b5d3-4e26-8b3e-baeb26fb1e3a",
   "metadata": {},
   "outputs": [
    {
     "data": {
      "text/plain": [
       "['As a young man, of course, I could not put these things into words, but I knew, and my teammates knew, that there was something special about the game, and under the guidance of the Christian Brothers we developed a passionate love for the sport that shaped our friendships and our lives.',\n",
       " 'Guido and I grew up together, playing soccer and sharing a love of motorcycles, cars, and auto racing.',\n",
       " 'Under the guidance of the Christian Brothers, both of us grew to love the game of rugby with a consuming passion.',\n",
       " 'That rowdiness came to an abrupt end for Guido in 1969, when he met and fell in love with the beautiful daughter of a Chilean diplomat.',\n",
       " 'I believe he had a great hunger for the love and comforts of a family that was happy and whole.',\n",
       " 'He shared, with my father and me, a love for cars and driving, and he loved going with us to auto races.',\n",
       " 'The house had a beautiful view of the sea, and this more than anything made my mother love it.',\n",
       " 'She was a true tower of strength, but her strength was always based in warmth and love and because of her love and protection I grew up believing the world was a safe, familiar place.',\n",
       " 'He had given us a life of comfort and privilege such as his own father never could have imagined, he had provided for us and protected us in the best way he could, and though he was not an emotionally expressive man, he always showed his love for us subtly, quietly, and in ways that were true to the man he was.',\n",
       " 'Out of love for his family he had arranged in his mind a future that would keep us all safe, happy, and always together.']"
      ]
     },
     "execution_count": 7,
     "metadata": {},
     "output_type": "execute_result"
    }
   ],
   "source": [
    "import re\n",
    "pattern = re.compile(\"[A-Z]{1}[^.]*[^a-zA-Z]+love[^a-zA-Z]+[^.]*.\")\n",
    "findings = re.findall(pattern, book)\n",
    "findings[:10]"
   ]
  },
  {
   "cell_type": "markdown",
   "id": "c4c7fc71-f07f-4542-915a-249b1b91b0f3",
   "metadata": {},
   "source": [
    "# What are the most used words? "
   ]
  },
  {
   "cell_type": "code",
   "execution_count": 8,
   "id": "e3ea12c9-a5ed-4039-b342-b807f104835a",
   "metadata": {},
   "outputs": [],
   "source": [
    "import re\n",
    "pattern = re.compile(\"[a-zA-Z]+\")\n",
    "findings = re.findall(pattern, book.lower())"
   ]
  },
  {
   "cell_type": "code",
   "execution_count": 9,
   "id": "ac03a170-b22a-4406-b703-45bfd89c4667",
   "metadata": {},
   "outputs": [],
   "source": [
    "d = {}\n",
    "for word in findings:\n",
    "    if word in d.keys():\n",
    "        d[word] = d[word] + 1\n",
    "    else:\n",
    "        d[word] = 1"
   ]
  },
  {
   "cell_type": "code",
   "execution_count": 10,
   "id": "b5c9a77e-838b-4dad-b5ea-f8df0f9c3b1a",
   "metadata": {},
   "outputs": [
    {
     "data": {
      "text/plain": [
       "[(5346, 'the'),\n",
       " (2795, 'and'),\n",
       " (2729, 'i'),\n",
       " (2400, 'to'),\n",
       " (2060, 'of'),\n",
       " (1566, 'a'),\n",
       " (1430, 'was'),\n",
       " (1419, 'in'),\n",
       " (1226, 'we'),\n",
       " (1169, 'my')]"
      ]
     },
     "execution_count": 10,
     "metadata": {},
     "output_type": "execute_result"
    }
   ],
   "source": [
    "d_list = [(value, key) for (key, value) in d.items()]\n",
    "sorted(d_list, reverse=True)[:10]"
   ]
  },
  {
   "cell_type": "markdown",
   "id": "e8186c6e-b48d-46c4-a6af-7765eeff257d",
   "metadata": {},
   "source": [
    "# What are the most used words? (non-articles)"
   ]
  },
  {
   "cell_type": "code",
   "execution_count": 11,
   "id": "1e894280-e314-4459-9dcf-a4a16669d8a9",
   "metadata": {},
   "outputs": [],
   "source": [
    "import re\n",
    "pattern = re.compile(\"[a-zA-Z]+\")\n",
    "findings = re.findall(pattern, book.lower())"
   ]
  },
  {
   "cell_type": "code",
   "execution_count": 12,
   "id": "f37c2775-fac1-488a-9c34-ead30b1dc423",
   "metadata": {},
   "outputs": [],
   "source": [
    "d = {}\n",
    "for word in findings:\n",
    "    if word in d.keys():\n",
    "        d[word] = d[word] + 1\n",
    "    else:\n",
    "        d[word] = 1"
   ]
  },
  {
   "cell_type": "code",
   "execution_count": 26,
   "id": "3d2adf98-1a80-4ee8-96ee-28b34025ab8b",
   "metadata": {},
   "outputs": [],
   "source": [
    "d_list = [(value, key) for (key, value) in d.items()]\n",
    "d_list = sorted(d_list, reverse=True)"
   ]
  },
  {
   "cell_type": "code",
   "execution_count": 27,
   "id": "f680b5dd-1d4c-4b07-a5ce-ee355007ad78",
   "metadata": {},
   "outputs": [],
   "source": [
    "import nltk\n",
    "from nltk.corpus import stopwords\n",
    "english_stopwords = stopwords.words(\"english\")"
   ]
  },
  {
   "cell_type": "code",
   "execution_count": 23,
   "id": "218ce738-93d3-41ff-92b3-b71fc9738b8e",
   "metadata": {},
   "outputs": [],
   "source": [
    "filtered_words = []\n",
    "for count, word in d_list:\n",
    "    if word not in english_stopwords:\n",
    "        filtered_words.append({word, count})"
   ]
  },
  {
   "cell_type": "code",
   "execution_count": 25,
   "id": "7997ef1c-1cde-4d96-aaca-932363751436",
   "metadata": {},
   "outputs": [
    {
     "data": {
      "text/plain": [
       "[{575, 'would'},\n",
       " {519, 'us'},\n",
       " {292, 'said'},\n",
       " {284, 'roberto'},\n",
       " {252, 'could'},\n",
       " {249, 'one'},\n",
       " {227, 'snow'},\n",
       " {183, 'mountain'},\n",
       " {182, 'time'},\n",
       " {165, 'like'}]"
      ]
     },
     "execution_count": 25,
     "metadata": {},
     "output_type": "execute_result"
    }
   ],
   "source": [
    "filtered_words[:10]"
   ]
  },
  {
   "cell_type": "code",
   "execution_count": null,
   "id": "dd071a24-ab00-4d07-8d05-3fa4cdd1c8a0",
   "metadata": {},
   "outputs": [],
   "source": []
  },
  {
   "cell_type": "code",
   "execution_count": null,
   "id": "76713832-6e46-498a-93b5-fada11da40ce",
   "metadata": {},
   "outputs": [],
   "source": []
  }
 ],
 "metadata": {
  "kernelspec": {
   "display_name": "Python 3 (ipykernel)",
   "language": "python",
   "name": "python3"
  },
  "language_info": {
   "codemirror_mode": {
    "name": "ipython",
    "version": 3
   },
   "file_extension": ".py",
   "mimetype": "text/x-python",
   "name": "python",
   "nbconvert_exporter": "python",
   "pygments_lexer": "ipython3",
   "version": "3.12.0"
  }
 },
 "nbformat": 4,
 "nbformat_minor": 5
}
